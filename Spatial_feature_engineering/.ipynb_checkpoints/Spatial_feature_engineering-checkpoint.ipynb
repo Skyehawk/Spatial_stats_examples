{
 "cells": [
  {
   "cell_type": "markdown",
   "id": "6038ca87-e76b-48b6-8c1c-c88b9bdd48bd",
   "metadata": {},
   "source": [
    "### The following is from [HERE](https://geographicdata.science/book/notebooks/12_feature_engineering.html), then modified as the example is worked through"
   ]
  },
  {
   "cell_type": "markdown",
   "id": "30e4bfd4-4cce-4530-b474-516d7014e10e",
   "metadata": {},
   "source": [
    "## Spatial Feature engineering"
   ]
  },
  {
   "cell_type": "code",
   "execution_count": null,
   "id": "12ab3df4-cd19-4334-a657-f3e3b86fa60d",
   "metadata": {},
   "outputs": [],
   "source": []
  }
 ],
 "metadata": {
  "kernelspec": {
   "display_name": "Python 3 (ipykernel)",
   "language": "python",
   "name": "python3"
  },
  "language_info": {
   "codemirror_mode": {
    "name": "ipython",
    "version": 3
   },
   "file_extension": ".py",
   "mimetype": "text/x-python",
   "name": "python",
   "nbconvert_exporter": "python",
   "pygments_lexer": "ipython3",
   "version": "3.11.0"
  }
 },
 "nbformat": 4,
 "nbformat_minor": 5
}
