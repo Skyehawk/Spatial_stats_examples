{
 "cells": [
  {
   "cell_type": "markdown",
   "id": "6038ca87-e76b-48b6-8c1c-c88b9bdd48bd",
   "metadata": {},
   "source": [
    "### The following is from [HERE](https://geographicdata.science/book/notebooks/12_feature_engineering.html), then modified as the example is worked through"
   ]
  },
  {
   "cell_type": "markdown",
   "id": "30e4bfd4-4cce-4530-b474-516d7014e10e",
   "metadata": {},
   "source": [
    "## Spatial Feature Engineering\n",
    "\n",
    "In machine learning and data science, er are foten equipped with *tons* of data, Indeed, goven the constellation of pachages to wuery data services, free and open-source datasets, and the rapid and persistent collection of geographical data, there is simply too much data to even represent coherently in a single, tidy fashon. However, we often need to be able to cinstruct useful *features* from this rich and deep sea of data. \n",
    "\n",
    "Where data are avalible, but not directly usable, *feature engineering*  helps to construct representations of transformations of these original datathat are more useful for modeling a given phenomenon of interest. In traditional machine learning, feature engineeering invilves applying addtional domain knowledge to raw information in order to structure it in a amnner that is meaningful to model. Often this invilves some sort of transformation on the original dataset, which is a well studied concept in bot classical statistice and remains so in machine learning methds. Whereas *feature engineering* always relies on this implicit fomain knowledge, it is an ixtremly important part or adapting general purpose algorithms to unique of sidtinctive problems facing the every-day data scientist. \n",
    "\n",
    "Geography is one of the most high-quality, ubiquitous ways to introduce *domain knowledge* into a problem: everything has a position in both *space* and *time*. Whereas things that happen nearby *in time* do not necessarly have a fundamental relationship, things that are *near* one another are often related. Thus, space is the the ultimate *linkage key*, allowing us to connect different datasets together in order to improve our models and our predictions. This means that, even for *aspatial*, \"non-geographic\" data, you can still use *spatial feature engineering* to create useful, highly relevant features for your analysis. \n",
    "\n",
    "At its core, *spatial feature engineering* is the pricess of developing additional information from raw data ising *geographic knowledge*. The distilling of data can occur *between* datasets, where geography is used to link infomation in seperate datasets together; or *within* datasets, where geography can be used to augment the information avaliable for one sample by borrowing from nearby ones. This notebook is structured following that distinction: for cases where geography connects *different* datasets, we adopt the term \"Map Matching\", often used in industry, whereas we use the mirroring concept of \"Map Synthesis\" describing the use of geographical structure to derive new fewatures from a given dataset.Technically speaking, some of the methods we review are similar across these two cases, or even the same; however, they can be applied in the context of \"matching\" or \"synthesis\", and we consider those conceptually differet, hence their inclusion in both sections. Theoughout this notebook, wwe us Airbnb nightly rental prices in San Diego, as well as auxuliary datasets such as elevation of census demographics. "
   ]
  },
  {
   "cell_type": "code",
   "execution_count": 1,
   "id": "12ab3df4-cd19-4334-a657-f3e3b86fa60d",
   "metadata": {},
   "outputs": [],
   "source": [
    "import geopandas as gpd, pandas as pd, libpysal.weights as weights, contextily\n",
    "import matplotlib.pyplot as plt\n",
    "import numpy as np\n",
    "import cenpy\n",
    "import osmnx\n",
    "import seaborn as sns\n",
    "import rasterio\n",
    "from rasterio.plot import show as rioshow"
   ]
  },
  {
   "cell_type": "markdown",
   "id": "ebdffd89-94a9-4c50-b424-5f7e479a1a29",
   "metadata": {},
   "source": [
    "Throught this notebook, we will use the same dataset to ehich er want to append further information of augment, and we will do so through leveraging the study area's geography. For the illistration, er will use the set of Airbnb properties we used in the spatial regression notebook. "
   ]
  },
  {
   "cell_type": "code",
   "execution_count": null,
   "id": "8b2026d1-9e92-48f4-b5e4-caa20b3ace24",
   "metadata": {},
   "outputs": [],
   "source": [
    "airbnbs = gpd.read_file(\"../data/air_bnb/\")"
   ]
  },
  {
   "cell_type": "code",
   "execution_count": 3,
   "id": "d9e2dbbf-4f15-4882-b143-06d22681ebe5",
   "metadata": {},
   "outputs": [],
   "source": [
    "%matplotlib inline\n",
    "\n",
    "import requests\n",
    "import pandas as pd\n",
    "import geopandas as gpd\n",
    "#import googlemaps\n",
    "from scipy.spatial.distance import cdist\n",
    "\n",
    "url = 'http://data.insideairbnb.com/united-states/'\\\n",
    "      'ca/san-diego/2016-07-07/data/'\\\n",
    "      'listings.csv.gz'\n",
    "r = requests.get(url)\n",
    "with open('listings.csv.gz', 'wb') as fo:\n",
    "    fo.write(r.content)"
   ]
  },
  {
   "cell_type": "code",
   "execution_count": null,
   "id": "22986fb4-3816-4d22-967b-cf41db6a7d61",
   "metadata": {},
   "outputs": [],
   "source": []
  }
 ],
 "metadata": {
  "kernelspec": {
   "display_name": "Python 3 (ipykernel)",
   "language": "python",
   "name": "python3"
  },
  "language_info": {
   "codemirror_mode": {
    "name": "ipython",
    "version": 3
   },
   "file_extension": ".py",
   "mimetype": "text/x-python",
   "name": "python",
   "nbconvert_exporter": "python",
   "pygments_lexer": "ipython3",
   "version": "3.11.0"
  }
 },
 "nbformat": 4,
 "nbformat_minor": 5
}
